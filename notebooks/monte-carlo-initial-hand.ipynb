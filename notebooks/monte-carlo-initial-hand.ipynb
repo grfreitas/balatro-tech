{
 "cells": [
  {
   "cell_type": "code",
   "execution_count": 1,
   "metadata": {},
   "outputs": [],
   "source": [
    "import os, sys\n",
    "sys.path.append('/Users/gabrielfreitas/balatro-tech')\n",
    "\n",
    "import numpy as np\n",
    "import pandas as pd\n",
    "\n",
    "import seaborn as sns\n",
    "import matplotlib.pyplot as plt\n",
    "from tqdm import tqdm\n",
    "\n",
    "\n",
    "from balatro import Deck, Hand, VALUES"
   ]
  },
  {
   "cell_type": "code",
   "execution_count": 2,
   "metadata": {},
   "outputs": [
    {
     "name": "stderr",
     "output_type": "stream",
     "text": [
      "100%|██████████| 1000/1000 [00:19<00:00, 51.27it/s]\n"
     ]
    }
   ],
   "source": [
    "results = []\n",
    "\n",
    "N = 1000\n",
    "for i in tqdm(range(N)):\n",
    "    deck = Deck()\n",
    "    deck.shuffle()\n",
    "\n",
    "    hand = Hand()\n",
    "    hand.draw_from_deck(deck, 8)\n",
    "\n",
    "    poker_hand, hand_value = hand.find_best_poker_hand()\n",
    "    results.append((poker_hand, hand_value))"
   ]
  },
  {
   "cell_type": "code",
   "execution_count": 21,
   "metadata": {},
   "outputs": [],
   "source": [
    "mc = pd.DataFrame(results, columns=['poker_hand', 'hand_value'])\n",
    "mc = mc.groupby('poker_hand').agg({'hand_value': ['sum', 'mean', 'count']})\n",
    "mc.columns = mc.columns.droplevel()\n",
    "mc.sort_values('count', inplace=True)"
   ]
  },
  {
   "cell_type": "code",
   "execution_count": 22,
   "metadata": {},
   "outputs": [],
   "source": [
    "mc.loc[:, 'share_%'] = mc['count'] / mc['count'].sum() * 100"
   ]
  },
  {
   "cell_type": "code",
   "execution_count": 23,
   "metadata": {},
   "outputs": [
    {
     "data": {
      "text/html": [
       "<div>\n",
       "<style scoped>\n",
       "    .dataframe tbody tr th:only-of-type {\n",
       "        vertical-align: middle;\n",
       "    }\n",
       "\n",
       "    .dataframe tbody tr th {\n",
       "        vertical-align: top;\n",
       "    }\n",
       "\n",
       "    .dataframe thead th {\n",
       "        text-align: right;\n",
       "    }\n",
       "</style>\n",
       "<table border=\"1\" class=\"dataframe\">\n",
       "  <thead>\n",
       "    <tr style=\"text-align: right;\">\n",
       "      <th></th>\n",
       "      <th>sum</th>\n",
       "      <th>mean</th>\n",
       "      <th>count</th>\n",
       "      <th>share_%</th>\n",
       "    </tr>\n",
       "    <tr>\n",
       "      <th>poker_hand</th>\n",
       "      <th></th>\n",
       "      <th></th>\n",
       "      <th></th>\n",
       "      <th></th>\n",
       "    </tr>\n",
       "  </thead>\n",
       "  <tbody>\n",
       "    <tr>\n",
       "      <th>four_of_a_kind</th>\n",
       "      <td>558</td>\n",
       "      <td>186.000000</td>\n",
       "      <td>3</td>\n",
       "      <td>0.3</td>\n",
       "    </tr>\n",
       "    <tr>\n",
       "      <th>straight_flush</th>\n",
       "      <td>720</td>\n",
       "      <td>240.000000</td>\n",
       "      <td>3</td>\n",
       "      <td>0.3</td>\n",
       "    </tr>\n",
       "    <tr>\n",
       "      <th>three_of_a_kind</th>\n",
       "      <td>4134</td>\n",
       "      <td>81.058824</td>\n",
       "      <td>51</td>\n",
       "      <td>5.1</td>\n",
       "    </tr>\n",
       "    <tr>\n",
       "      <th>full_house</th>\n",
       "      <td>7402</td>\n",
       "      <td>123.366667</td>\n",
       "      <td>60</td>\n",
       "      <td>6.0</td>\n",
       "    </tr>\n",
       "    <tr>\n",
       "      <th>flush</th>\n",
       "      <td>6382</td>\n",
       "      <td>102.935484</td>\n",
       "      <td>62</td>\n",
       "      <td>6.2</td>\n",
       "    </tr>\n",
       "    <tr>\n",
       "      <th>high_card</th>\n",
       "      <td>1816</td>\n",
       "      <td>20.636364</td>\n",
       "      <td>88</td>\n",
       "      <td>8.8</td>\n",
       "    </tr>\n",
       "    <tr>\n",
       "      <th>straight</th>\n",
       "      <td>13632</td>\n",
       "      <td>134.970297</td>\n",
       "      <td>101</td>\n",
       "      <td>10.1</td>\n",
       "    </tr>\n",
       "    <tr>\n",
       "      <th>pair</th>\n",
       "      <td>8436</td>\n",
       "      <td>29.914894</td>\n",
       "      <td>282</td>\n",
       "      <td>28.2</td>\n",
       "    </tr>\n",
       "    <tr>\n",
       "      <th>two_pair</th>\n",
       "      <td>16778</td>\n",
       "      <td>47.937143</td>\n",
       "      <td>350</td>\n",
       "      <td>35.0</td>\n",
       "    </tr>\n",
       "  </tbody>\n",
       "</table>\n",
       "</div>"
      ],
      "text/plain": [
       "                   sum        mean  count  share_%\n",
       "poker_hand                                        \n",
       "four_of_a_kind     558  186.000000      3      0.3\n",
       "straight_flush     720  240.000000      3      0.3\n",
       "three_of_a_kind   4134   81.058824     51      5.1\n",
       "full_house        7402  123.366667     60      6.0\n",
       "flush             6382  102.935484     62      6.2\n",
       "high_card         1816   20.636364     88      8.8\n",
       "straight         13632  134.970297    101     10.1\n",
       "pair              8436   29.914894    282     28.2\n",
       "two_pair         16778   47.937143    350     35.0"
      ]
     },
     "execution_count": 23,
     "metadata": {},
     "output_type": "execute_result"
    }
   ],
   "source": [
    "mc"
   ]
  },
  {
   "cell_type": "code",
   "execution_count": null,
   "metadata": {},
   "outputs": [],
   "source": []
  }
 ],
 "metadata": {
  "kernelspec": {
   "display_name": "Python 3",
   "language": "python",
   "name": "python3"
  },
  "language_info": {
   "codemirror_mode": {
    "name": "ipython",
    "version": 3
   },
   "file_extension": ".py",
   "mimetype": "text/x-python",
   "name": "python",
   "nbconvert_exporter": "python",
   "pygments_lexer": "ipython3",
   "version": "3.11.2"
  }
 },
 "nbformat": 4,
 "nbformat_minor": 2
}
